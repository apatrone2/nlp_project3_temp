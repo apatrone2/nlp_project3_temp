{
 "cells": [
  {
   "cell_type": "markdown",
   "id": "5ee6aae5",
   "metadata": {},
   "source": [
    "**Project 3: Zips Law distribution**\n",
    "\n",
    "This project investigates various facets of the Zips law and how it can be empirically tested on a set of well-known corpuses. We want to compare the various corpus developed at different time period."
   ]
  },
  {
   "cell_type": "markdown",
   "id": "776aadc5",
   "metadata": {},
   "source": [
    "1.\tConsider the corpus of old English poetry that you can download from The York-Helsinki parsed corpus of Old English poetry (YCOEP). You can inspire from links provided in description of Project 1, to i) Write a program that displays in the log-scale, the frequency of words versus the ranking; ii) Display the plot together with its linear fit and the 90% confidence bounds and provide an estimation of the linear curve parameter, corresponding to the parameters of the Zipf’s law; iii) Write a script and estimate the percentage of tokens that do not fall within the 90% bounds."
   ]
  },
  {
   "cell_type": "code",
   "execution_count": null,
   "id": "e4c0a2e1",
   "metadata": {},
   "outputs": [],
   "source": [
    "#1 code\n",
    "\n"
   ]
  },
  {
   "cell_type": "markdown",
   "id": "d8cb4334",
   "metadata": {},
   "source": [
    "2.\tRepeat 1) when considering the length of tokens used in the corpus. "
   ]
  },
  {
   "cell_type": "code",
   "execution_count": null,
   "id": "4ba6617f",
   "metadata": {},
   "outputs": [],
   "source": [
    "#2 code\n",
    "\n"
   ]
  },
  {
   "cell_type": "markdown",
   "id": "7722c678",
   "metadata": {},
   "source": [
    "3.\tWe want to explore the syntactic / stylistic patterns of the poem. For this purpose, for each line of poem, write a script that outputs the most frequent tag and the less frequent tag. Save the result in an excel file. Then compute the tag-coherence of the poem. This is computed as the proportion of the most common frequent tag across all lines of the poem for frequent-tags, and the proportion of the most common less-frequent tag across all lines for less frequent tag. In other words, you should provide tag-coherence in two dimensions (less-frequent tag and most frequent tag). Suggest a plot where you display the various tags (less-frequent tag, and another one for most frequent tag). Note that in the case where most frequent or less frequent yields more than one output, this should be taken into account in the calculus of the intersection (common tags across all lines)."
   ]
  },
  {
   "cell_type": "code",
   "execution_count": null,
   "id": "3ea95b65",
   "metadata": {},
   "outputs": [],
   "source": [
    "#3 code\n",
    "\n"
   ]
  },
  {
   "cell_type": "markdown",
   "id": "4a75d42b",
   "metadata": {},
   "source": [
    "4.\tRepeat 3) when exploring the first and last line of each token of the line of the poem (after excluding any stopword)."
   ]
  },
  {
   "cell_type": "code",
   "execution_count": null,
   "id": "c2d8248e",
   "metadata": {},
   "outputs": [],
   "source": [
    "#4 code\n",
    "\n",
    "\n"
   ]
  },
  {
   "cell_type": "markdown",
   "id": "5a35b431",
   "metadata": {},
   "source": [
    "5.\tWrite a script that uses WordNet lexical database to count the number of homonyms in each line of poem, and draw histogram that shows the distribution of number of homonyms in poem lines. Draw another histogram illustrating the histogram of the tags associated to homonym word."
   ]
  },
  {
   "cell_type": "code",
   "execution_count": null,
   "id": "105bc96c",
   "metadata": {},
   "outputs": [],
   "source": [
    "#5 code\n",
    "\n"
   ]
  },
  {
   "cell_type": "markdown",
   "id": "94f827df",
   "metadata": {},
   "source": [
    "6.\tWe would like to compare the phonetic of homonym and that of surrounding terms. For this purpose, use the “Fuzzy” library in python to generate the character string that identifies phonetically similar words (see fuzzy.Soundex (d) statement where d is the length of the generated string, and then use edit distance to compute the phonetic similarity between two words. See an example of implementation at https://www.analyticsvidhya.com/blog/2017/01/ultimate-guide-to-understand-implement-natural-language-processing-codes-in-python/.  Use the size of “d” open to account for more fine tuned phonetic evaluations. Therefore use the phonetic evaluation to compute the i) the edit distance between homonyms (should follow the order they appear in the document – first homonym and the second closest, then between the second one and the third one, etc..). Calculate the mean and standard deviation of the calculated distances. ii) Repeat the edit distance phonetic calculus when considering the first and last token of each line of poem (excluding stopword). "
   ]
  },
  {
   "cell_type": "code",
   "execution_count": null,
   "id": "25883844",
   "metadata": {},
   "outputs": [],
   "source": [
    "#6\n",
    "\n"
   ]
  },
  {
   "cell_type": "markdown",
   "id": "e18ede44",
   "metadata": {},
   "source": [
    "7.\tExplore the bigrams (words) generated by the corpus and consider the pair of tags associated to each bigram, write a script that identifies the most frequent pair of tags and the less frequent pair at each line of poem. Determine the variation of these two pairs across all lines of the poem using the same concept as tag coherence of 3). "
   ]
  },
  {
   "cell_type": "code",
   "execution_count": null,
   "id": "54c9dc75",
   "metadata": {},
   "outputs": [],
   "source": [
    "#7 code\n",
    "\n"
   ]
  },
  {
   "cell_type": "markdown",
   "id": "b3ab9fcc",
   "metadata": {},
   "source": [
    "8.\tRepeat 1-7, when using more modern poem corpus. You may consider list of ebook  http://www.gutenberg.org/   and select a poetry ebook of your choice."
   ]
  },
  {
   "cell_type": "code",
   "execution_count": null,
   "id": "9809b5e9",
   "metadata": {},
   "outputs": [],
   "source": [
    "#8 code\n",
    "\n"
   ]
  },
  {
   "cell_type": "markdown",
   "id": "148f4f00",
   "metadata": {},
   "source": [
    "9.\tDraw wordclouds for most similar phonetic lines in both corpus.  "
   ]
  },
  {
   "cell_type": "code",
   "execution_count": null,
   "id": "55e79c4e",
   "metadata": {},
   "outputs": [],
   "source": [
    "#9 code\n",
    "\n"
   ]
  },
  {
   "cell_type": "markdown",
   "id": "5271323a",
   "metadata": {},
   "source": [
    "10.\tUse appropriate literature of corpus linguistic literature to justify your findings and comment on the obtained results. Also, comment on the limitations and structural weakness of the data processing pipeline.   "
   ]
  },
  {
   "cell_type": "code",
   "execution_count": null,
   "id": "9bf855d2",
   "metadata": {},
   "outputs": [],
   "source": [
    "#10 \n",
    "\n"
   ]
  }
 ],
 "metadata": {
  "kernelspec": {
   "display_name": "Python 3 (ipykernel)",
   "language": "python",
   "name": "python3"
  },
  "language_info": {
   "codemirror_mode": {
    "name": "ipython",
    "version": 3
   },
   "file_extension": ".py",
   "mimetype": "text/x-python",
   "name": "python",
   "nbconvert_exporter": "python",
   "pygments_lexer": "ipython3",
   "version": "3.10.2"
  }
 },
 "nbformat": 4,
 "nbformat_minor": 5
}
